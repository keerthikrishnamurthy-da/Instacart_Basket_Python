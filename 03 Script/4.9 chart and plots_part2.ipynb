{
 "cells": [
  {
   "cell_type": "markdown",
   "id": "92087564",
   "metadata": {},
   "source": [
    "Here i have done the practice of excercise 4.9. in the later part of the code, i have imported custmer order and products megred data and worked on question 3 onwards."
   ]
  },
  {
   "cell_type": "markdown",
   "id": "af371591",
   "metadata": {},
   "source": [
    "# importing libraries"
   ]
  },
  {
   "cell_type": "code",
   "execution_count": 7,
   "id": "3835b38d",
   "metadata": {},
   "outputs": [],
   "source": [
    "#import pandas, numpy, os, seaborn, matplotlib and scipy\n",
    "import pandas as pd\n",
    "import numpy as np\n",
    "import os\n",
    "import matplotlib.pyplot as plt\n",
    "import seaborn as sns\n",
    "import scipy"
   ]
  },
  {
   "cell_type": "code",
   "execution_count": 8,
   "id": "321ff938",
   "metadata": {},
   "outputs": [],
   "source": [
    "pathk=r'/Users/keerthiputti/Desktop/Data Analysis/Instacart Basket Analysis-Python/02 Data'"
   ]
  },
  {
   "cell_type": "code",
   "execution_count": 9,
   "id": "f84d168e",
   "metadata": {},
   "outputs": [],
   "source": [
    "df_merged=pd.read_pickle(os.path.join(pathk,'Prepared Data','orders_merged_flagged.pkl'))"
   ]
  },
  {
   "cell_type": "code",
   "execution_count": 5,
   "id": "d6b07d1f",
   "metadata": {},
   "outputs": [
    {
     "data": {
      "text/plain": [
       "(32404859, 20)"
      ]
     },
     "execution_count": 5,
     "metadata": {},
     "output_type": "execute_result"
    }
   ],
   "source": [
    "df_merged.shape"
   ]
  },
  {
   "cell_type": "markdown",
   "id": "c6489841",
   "metadata": {},
   "source": [
    "# Plotting charts"
   ]
  },
  {
   "cell_type": "code",
   "execution_count": 10,
   "id": "89651571",
   "metadata": {},
   "outputs": [
    {
     "data": {
      "text/plain": [
       "<AxesSubplot:>"
      ]
     },
     "execution_count": 10,
     "metadata": {},
     "output_type": "execute_result"
    },
    {
     "data": {
      "image/png": "[encoded data removed]",
      "text/plain": [
       "<Figure size 640x480 with 1 Axes>"
      ]
     },
     "metadata": {},
     "output_type": "display_data"
    }
   ],
   "source": [
    "df_merged['Order_day_of_the_week'].value_counts().plot.bar()"
   ]
  },
  {
   "cell_type": "code",
   "execution_count": 11,
   "id": "68f6f9c1",
   "metadata": {},
   "outputs": [
    {
     "data": {
      "image/png": "[encoded data removed]",
      "text/plain": [
       "<Figure size 640x480 with 1 Axes>"
      ]
     },
     "metadata": {},
     "output_type": "display_data"
    }
   ],
   "source": [
    "#bar chart in colours\n",
    "bar_colour=df_merged['Order_day_of_the_week'].value_counts().sort_index().plot.bar(color=['green','blue','red','pink','orange','yellow','black'])"
   ]
  },
  {
   "cell_type": "code",
   "execution_count": 12,
   "id": "6c964208",
   "metadata": {},
   "outputs": [],
   "source": [
    "#saving bar charts into pic\n",
    "bar_colour.figure.savefig(r'/Users/keerthiputti/Desktop/Data Analysis/Instacart Basket Analysis-Python/04 Analysis/Visulization/bar_orders_dow_color.png')"
   ]
  },
  {
   "cell_type": "code",
   "execution_count": null,
   "id": "d5f9d1ea",
   "metadata": {},
   "outputs": [],
   "source": [
    "#histogram\n",
    "df_merged['prices'].plot.hist(bins = 3)"
   ]
  },
  {
   "cell_type": "code",
   "execution_count": null,
   "id": "b13f89da",
   "metadata": {},
   "outputs": [],
   "source": [
    "#scatterplot on prices\n",
    "sns.scatterplot(x = 'prices', y = 'prices',data = df_merged)"
   ]
  },
  {
   "cell_type": "code",
   "execution_count": null,
   "id": "bfa661f1",
   "metadata": {},
   "outputs": [],
   "source": [
    "#prices check\n",
    "df_merged.loc[df_merged['prices'] > 100]"
   ]
  },
  {
   "cell_type": "code",
   "execution_count": null,
   "id": "a43d75d8",
   "metadata": {},
   "outputs": [],
   "source": [
    "#assigning prices above 100 as Nan as they are outliers\n",
    "df_merged.loc[df_merged['prices'] >100, 'prices'] = np.nan"
   ]
  },
  {
   "cell_type": "code",
   "execution_count": null,
   "id": "25a04ab4",
   "metadata": {},
   "outputs": [],
   "source": [
    "#checking on scatterplot\n",
    "sns.scatterplot(x = 'prices', y = 'prices',data = df_merged)"
   ]
  },
  {
   "cell_type": "code",
   "execution_count": null,
   "id": "8a48bf4c",
   "metadata": {},
   "outputs": [],
   "source": [
    "#plotting histogram\n",
    "df_merged['prices'].plot.hist(bins = 25)"
   ]
  },
  {
   "cell_type": "markdown",
   "id": "39ee5e94",
   "metadata": {},
   "source": [
    "# Sampling data"
   ]
  },
  {
   "cell_type": "code",
   "execution_count": null,
   "id": "2bae2917",
   "metadata": {},
   "outputs": [],
   "source": [
    "np.random.seed(4)"
   ]
  },
  {
   "cell_type": "code",
   "execution_count": null,
   "id": "27eaabb7",
   "metadata": {},
   "outputs": [],
   "source": [
    "#creating sample of 70/30\n",
    "dev=np.random.rand(len(df_merged))<=0.7"
   ]
  },
  {
   "cell_type": "code",
   "execution_count": null,
   "id": "5e05013d",
   "metadata": {},
   "outputs": [],
   "source": [
    "#dataframe of 70% data\n",
    "big=df_merged[dev]"
   ]
  },
  {
   "cell_type": "code",
   "execution_count": null,
   "id": "aac78d64",
   "metadata": {},
   "outputs": [],
   "source": [
    "#30% data frame\n",
    "small=df_merged[~dev]"
   ]
  },
  {
   "cell_type": "code",
   "execution_count": null,
   "id": "d93cfc1b",
   "metadata": {},
   "outputs": [],
   "source": [
    "big.head()"
   ]
  },
  {
   "cell_type": "code",
   "execution_count": null,
   "id": "4388f81b",
   "metadata": {},
   "outputs": [],
   "source": [
    "df_merged.shape"
   ]
  },
  {
   "cell_type": "code",
   "execution_count": null,
   "id": "02a11707",
   "metadata": {},
   "outputs": [],
   "source": [
    "#checking the data count\n",
    "len(big)+len(small)"
   ]
  },
  {
   "cell_type": "code",
   "execution_count": null,
   "id": "79813c79",
   "metadata": {},
   "outputs": [],
   "source": [
    "#creating subset to draw line chart from small data set\n",
    "\n",
    "df_2 = small[['Order_day_of_the_week','prices']]"
   ]
  },
  {
   "cell_type": "code",
   "execution_count": null,
   "id": "823f29d8",
   "metadata": {},
   "outputs": [],
   "source": [
    "df_2"
   ]
  },
  {
   "cell_type": "code",
   "execution_count": null,
   "id": "dd899bd9",
   "metadata": {},
   "outputs": [],
   "source": [
    "line = sns.lineplot(data = df_2, x = 'Order_day_of_the_week',y = 'prices')"
   ]
  },
  {
   "cell_type": "code",
   "execution_count": null,
   "id": "9cb71fde",
   "metadata": {},
   "outputs": [],
   "source": [
    "df_3 = df_merged[['Order_day_of_the_week','prices']]"
   ]
  },
  {
   "cell_type": "code",
   "execution_count": null,
   "id": "1e668880",
   "metadata": {},
   "outputs": [],
   "source": [
    "line_full= sns.lineplot(data=df_3,x='Order_day_of_the_week',y='prices')"
   ]
  },
  {
   "cell_type": "markdown",
   "id": "66e856f1",
   "metadata": {},
   "source": [
    "# visulizations for exercise part 2 , question 3"
   ]
  },
  {
   "cell_type": "code",
   "execution_count": null,
   "id": "96b8337a",
   "metadata": {},
   "outputs": [],
   "source": [
    "#importing customer,orders and products combined data"
   ]
  },
  {
   "cell_type": "code",
   "execution_count": 6,
   "id": "5e25ce14",
   "metadata": {},
   "outputs": [],
   "source": [
    "df_fin_merge=pd.read_pickle(os.path.join(pathk,'Prepared Data','final_data.pkl'))"
   ]
  },
  {
   "cell_type": "code",
   "execution_count": null,
   "id": "184223aa",
   "metadata": {
    "scrolled": true
   },
   "outputs": [],
   "source": [
    "df_fin_merge.shape"
   ]
  },
  {
   "cell_type": "code",
   "execution_count": null,
   "id": "6538543f",
   "metadata": {},
   "outputs": [],
   "source": [
    "df_fin_merge.columns"
   ]
  },
  {
   "cell_type": "markdown",
   "id": "f9aab602",
   "metadata": {},
   "source": [
    "You need to provide the Instacart senior stakeholders with descriptive findings about sales. Create a histogram of the “order_hour_of_day” column."
   ]
  },
  {
   "cell_type": "code",
   "execution_count": null,
   "id": "ec1c9fb2",
   "metadata": {},
   "outputs": [],
   "source": [
    "#histogram for order_hour_of_the_day\n",
    "hour_hist=df_fin_merge['order_hour_of_day'].plot.hist(bins=48,color='orange')"
   ]
  },
  {
   "cell_type": "markdown",
   "id": "ac9d7659",
   "metadata": {},
   "source": [
    "The histogram shows that the sales are very slow between 0(12 AM) till 5AM. It slowly pickup from 6 and increases and reaches peak at 10AM and stays steady till 16 hours(4 PM) and then slows drops untill 11 PM."
   ]
  },
  {
   "cell_type": "markdown",
   "id": "ddbd7cfa",
   "metadata": {},
   "source": [
    "Question 4 : The marketing team is curious about the distribution of orders among customers in terms of loyalty. Create a bar chart from the “loyalty_flag” column."
   ]
  },
  {
   "cell_type": "code",
   "execution_count": null,
   "id": "39fa8f51",
   "metadata": {},
   "outputs": [],
   "source": [
    "loy_bar=df_fin_merge['loyalty_flag'].value_counts().plot.bar(color=('green'))"
   ]
  },
  {
   "cell_type": "markdown",
   "id": "dad5aea6",
   "metadata": {},
   "source": [
    "Question 5 : Check whether there’s a difference in expenditure (the “prices” column) depending on the hour of the day.\n",
    "    (Hint: To check this, you need to use an accurate sample for your line chart!)"
   ]
  },
  {
   "cell_type": "code",
   "execution_count": null,
   "id": "f4342621",
   "metadata": {},
   "outputs": [],
   "source": [
    "#creating dataframe with only order hours of day and prices\n",
    "df_fin_merge_prhr=df_fin_merge[['order_hour_of_day','prices']]"
   ]
  },
  {
   "cell_type": "code",
   "execution_count": null,
   "id": "5fe83fb6",
   "metadata": {},
   "outputs": [],
   "source": [
    "#creating dataframe with only order hours of day and prices with 30% sample\n",
    "df_sam_prhr=small[['order_hour_of_day','prices']]"
   ]
  },
  {
   "cell_type": "code",
   "execution_count": null,
   "id": "72c8608a",
   "metadata": {},
   "outputs": [],
   "source": [
    "df_sam_prhr.head()"
   ]
  },
  {
   "cell_type": "code",
   "execution_count": null,
   "id": "63b2d1cb",
   "metadata": {
    "scrolled": true
   },
   "outputs": [],
   "source": [
    "df_fin_merge_prhr.head()"
   ]
  },
  {
   "cell_type": "code",
   "execution_count": null,
   "id": "9a9d8825",
   "metadata": {},
   "outputs": [],
   "source": [
    "#creating line chart with sample\n",
    "line_hdpr_sample=sns.lineplot(data=df_sam_prhr,x='order_hour_of_day',y='prices')"
   ]
  },
  {
   "cell_type": "code",
   "execution_count": null,
   "id": "e657fe7e",
   "metadata": {},
   "outputs": [],
   "source": [
    "# !!creating line chart with df_fin_merge_prhr\n",
    "line_hdpr=sns.lineplot(data=df_fin_merge_prhr,x='order_hour_of_day',y='prices')"
   ]
  },
  {
   "cell_type": "markdown",
   "id": "73b6fbe9",
   "metadata": {},
   "source": [
    "Early mornings are when the high price items are ordered compared to rest of the day.sometimes between 11 PM and 2-3 AM is when very less expensive products are bought."
   ]
  },
  {
   "cell_type": "markdown",
   "id": "832a2923",
   "metadata": {},
   "source": [
    "Question 6: conduct some exploratory analysis of customer demographics to inform the targeted marketing campaigns. First, determine whether there’s a connection between age and family situation by creating a line chart exploring the connections between age and number of dependents:"
   ]
  },
  {
   "cell_type": "code",
   "execution_count": null,
   "id": "37c45e8e",
   "metadata": {},
   "outputs": [],
   "source": [
    "#creating sample in the final merged data\n",
    "np.random.seed(4)"
   ]
  },
  {
   "cell_type": "code",
   "execution_count": null,
   "id": "42d4a0aa",
   "metadata": {},
   "outputs": [],
   "source": [
    "fin=np.random.rand(len(df_fin_merge))<=0.7"
   ]
  },
  {
   "cell_type": "code",
   "execution_count": null,
   "id": "af81ff5b",
   "metadata": {},
   "outputs": [],
   "source": [
    "#creating subsets of 70 and 30 using random function\n",
    "big_fin=df_fin_merge[fin]\n",
    "small_fin=df_fin_merge[~fin]"
   ]
  },
  {
   "cell_type": "code",
   "execution_count": null,
   "id": "734b3a67",
   "metadata": {},
   "outputs": [],
   "source": [
    "len(big_fin)+len(small_fin)"
   ]
  },
  {
   "cell_type": "code",
   "execution_count": null,
   "id": "9ee6541e",
   "metadata": {},
   "outputs": [],
   "source": [
    "#creating age and dependents sub set\n",
    "df_sam_agedep=small_fin[['age','dependents_nbr']]"
   ]
  },
  {
   "cell_type": "code",
   "execution_count": null,
   "id": "d7a06548",
   "metadata": {},
   "outputs": [],
   "source": [
    "line_sam_agedep = sns.lineplot(data=df_sam_agedep,x='age',y='dependents_nbr')\n",
    "line_sam_agedep.yaxis.get_major_locator().set_params(integer=True)"
   ]
  },
  {
   "cell_type": "code",
   "execution_count": null,
   "id": "e775914b",
   "metadata": {},
   "outputs": [],
   "source": [
    "from matplotlib.ticker import MaxNLocator\n",
    "\n",
    "line_sam_agedep = plt.figure().gca()\n",
    "line_sam_agedep=sns.lineplot(data=df_sam_agedep,x='age',y='dependents_nbr')\n",
    "plt.ylim(0, 5)"
   ]
  },
  {
   "cell_type": "code",
   "execution_count": null,
   "id": "e9c3e12d",
   "metadata": {},
   "outputs": [],
   "source": [
    "df_sam_agedep.describe()"
   ]
  },
  {
   "cell_type": "code",
   "execution_count": null,
   "id": "d78c49a2",
   "metadata": {
    "scrolled": true
   },
   "outputs": [],
   "source": [
    "#creating line plot with sample data\n",
    "line_sam_agedep=sns.lineplot(data=df_sam_agedep,x='age',y='dependents_nbr')"
   ]
  },
  {
   "cell_type": "code",
   "execution_count": null,
   "id": "e354c411",
   "metadata": {},
   "outputs": [],
   "source": [
    "#creating age and dependents from merged data\n",
    "\n",
    "df_agedep=df_fin_merge[['age','dependents_nbr']]"
   ]
  },
  {
   "cell_type": "code",
   "execution_count": null,
   "id": "01243821",
   "metadata": {},
   "outputs": [],
   "source": [
    "#creating line plot with sample data\n",
    "line_gedep=sns.lineplot(data=df_agedep,x='age',y='dependents_nbr')"
   ]
  },
  {
   "cell_type": "markdown",
   "id": "92c3c11b",
   "metadata": {},
   "source": [
    "The graph does not show any clear relation between age and dependents. however, i feel the column dependents_nbr should be changed to integer for proper representation."
   ]
  },
  {
   "cell_type": "markdown",
   "id": "3f78920d",
   "metadata": {},
   "source": [
    "Question 7: You’ll also need to explore whether there’s a connection between age and spending power (income). To visualize this relationship, create a scatterplot using the sns.scatterplot() function."
   ]
  },
  {
   "cell_type": "code",
   "execution_count": null,
   "id": "6f03973e",
   "metadata": {},
   "outputs": [],
   "source": [
    "#sample for scatterplot\n",
    "scat_sam_agein=small_fin[['age','income']]"
   ]
  },
  {
   "cell_type": "code",
   "execution_count": null,
   "id": "d918cc28",
   "metadata": {},
   "outputs": [],
   "source": [
    "#subset from merged_data\n",
    "scat_agein=df_fin_merge[['age','income']]"
   ]
  },
  {
   "cell_type": "code",
   "execution_count": null,
   "id": "6d15782c",
   "metadata": {},
   "outputs": [],
   "source": [
    "#scattterplot for the sample data\n",
    "scat_sam=sns.scatterplot(x = 'age', y = 'income',data = scat_sam_agein)"
   ]
  },
  {
   "cell_type": "code",
   "execution_count": null,
   "id": "6b563068",
   "metadata": {},
   "outputs": [],
   "source": [
    "#scattterplot for the final data\n",
    "scat_merge=sns.scatterplot(x = 'age', y = 'income',data = scat_agein)"
   ]
  },
  {
   "cell_type": "markdown",
   "id": "b73917c9",
   "metadata": {},
   "source": [
    "both scatterpot of sample and full data shows that most customers are between 0 to 200000 income category and after that we can see sparse customers.there are less high income customers in age between 20-40.most high income customers are 40+ age group. however there isnot much co-relation between age and income."
   ]
  },
  {
   "cell_type": "markdown",
   "id": "30754d8a",
   "metadata": {},
   "source": [
    "# exporting all visualization into png"
   ]
  },
  {
   "cell_type": "code",
   "execution_count": null,
   "id": "1eab3d1e",
   "metadata": {},
   "outputs": [],
   "source": [
    "#saving histogram of hour of day\n",
    "hour_hist.figure.savefig(r'/Users/keerthiputti/Desktop/Data Analysis/Instacart Basket Analysis-Python/04 Analysis/Visulization/histogram_hour_of_day.png')\n"
   ]
  },
  {
   "cell_type": "code",
   "execution_count": null,
   "id": "a97ef1c4",
   "metadata": {},
   "outputs": [],
   "source": [
    "#saving bar chart of loyality\n",
    "loy_bar.figure.savefig(r'/Users/keerthiputti/Desktop/Data Analysis/Instacart Basket Analysis-Python/04 Analysis/Visulization/loyalty_bar_chart.png')\n"
   ]
  },
  {
   "cell_type": "code",
   "execution_count": null,
   "id": "658d593a",
   "metadata": {},
   "outputs": [],
   "source": [
    "#saving hour to price line chart sapmple data\n",
    "\n",
    "line_hdpr_sample.figure.savefig(r'/Users/keerthiputti/Desktop/Data Analysis/Instacart Basket Analysis-Python/04 Analysis/Visulization/price_to_hr_line_sample.png')\n"
   ]
  },
  {
   "cell_type": "code",
   "execution_count": null,
   "id": "b2b810bf",
   "metadata": {},
   "outputs": [],
   "source": [
    "#saving hour to price line chart full data\n",
    "line_hdpr.figure.savefig(r'/Users/keerthiputti/Desktop/Data Analysis/Instacart Basket Analysis-Python/04 Analysis/Visulization/price_to_hr_line_fin.png')\n"
   ]
  },
  {
   "cell_type": "code",
   "execution_count": null,
   "id": "50ca4fc8",
   "metadata": {},
   "outputs": [],
   "source": [
    "#saving age to dependent line chart sample\n",
    "line_sam_agedep.figure.savefig(r'/Users/keerthiputti/Desktop/Data Analysis/Instacart Basket Analysis-Python/04 Analysis/Visulization/age_to_dep_line_sample.png')\n"
   ]
  },
  {
   "cell_type": "code",
   "execution_count": null,
   "id": "c5de18d2",
   "metadata": {},
   "outputs": [],
   "source": [
    "#saving age to dependent line chart full data\n",
    "line_gedep.figure.savefig(r'/Users/keerthiputti/Desktop/Data Analysis/Instacart Basket Analysis-Python/04 Analysis/Visulization/age_to_dep_line_full.png')\n"
   ]
  },
  {
   "cell_type": "code",
   "execution_count": null,
   "id": "f18a4898",
   "metadata": {},
   "outputs": [],
   "source": [
    "#saving age to imcome line chart sample data\n",
    "scat_sam.figure.savefig(r'/Users/keerthiputti/Desktop/Data Analysis/Instacart Basket Analysis-Python/04 Analysis/Visulization/age_to_income_line_sample.png')\n"
   ]
  },
  {
   "cell_type": "code",
   "execution_count": null,
   "id": "028f4350",
   "metadata": {},
   "outputs": [],
   "source": [
    "#saving age to income line chart full data\n",
    "scat_merge.figure.savefig(r'/Users/keerthiputti/Desktop/Data Analysis/Instacart Basket Analysis-Python/04 Analysis/Visulization/age_to_income_line_full_data.png')\n"
   ]
  },
  {
   "cell_type": "code",
   "execution_count": null,
   "id": "0d72df71",
   "metadata": {},
   "outputs": [],
   "source": []
  }
 ],
 "metadata": {
  "kernelspec": {
   "display_name": "Python 3 (ipykernel)",
   "language": "python",
   "name": "python3"
  },
  "language_info": {
   "codemirror_mode": {
    "name": "ipython",
    "version": 3
   },
   "file_extension": ".py",
   "mimetype": "text/x-python",
   "name": "python",
   "nbconvert_exporter": "python",
   "pygments_lexer": "ipython3",
   "version": "3.9.13"
  }
 },
 "nbformat": 4,
 "nbformat_minor": 5
}
