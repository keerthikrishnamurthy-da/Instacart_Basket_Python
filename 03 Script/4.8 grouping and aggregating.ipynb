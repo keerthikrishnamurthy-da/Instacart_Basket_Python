{
 "cells": [
  {
   "cell_type": "markdown",
   "id": "8c139e1a",
   "metadata": {},
   "source": [
    "question 1: importing libraries and file from previous excercise"
   ]
  },
  {
   "cell_type": "markdown",
   "id": "1b71ccf8",
   "metadata": {},
   "source": [
    "# Importing libraries"
   ]
  },
  {
   "cell_type": "code",
   "execution_count": null,
   "id": "dd8eff0a",
   "metadata": {},
   "outputs": [],
   "source": [
    "#importing libraries\n",
    "import pandas as pd\n",
    "import numpy as np\n",
    "import os"
   ]
  },
  {
   "cell_type": "code",
   "execution_count": null,
   "id": "c826779d",
   "metadata": {},
   "outputs": [],
   "source": [
    "#creating path\n",
    "pathk=r'/Users/keerthiputti/Desktop/Data Analysis/Instacart Basket Analysis-Python/02 Data'"
   ]
  },
  {
   "cell_type": "code",
   "execution_count": null,
   "id": "d665f6c3",
   "metadata": {},
   "outputs": [],
   "source": [
    "#importing pickle data\n",
    "ords_prods_merge=pd.read_pickle(os.path.join(pathk,'Prepared Data','Merged_file.pkl'))"
   ]
  },
  {
   "cell_type": "code",
   "execution_count": null,
   "id": "1377e81a",
   "metadata": {},
   "outputs": [],
   "source": [
    "#creating dataframe to import only first 1 million rows\n",
    "df=ords_prods_merge[:1000000]"
   ]
  },
  {
   "cell_type": "code",
   "execution_count": null,
   "id": "d4ef4b8d",
   "metadata": {},
   "outputs": [],
   "source": [
    "df.head()"
   ]
  },
  {
   "cell_type": "code",
   "execution_count": null,
   "id": "9b5eed95",
   "metadata": {},
   "outputs": [],
   "source": [
    "#gruping by product name\n",
    "df.groupby('product_name')"
   ]
  },
  {
   "cell_type": "code",
   "execution_count": null,
   "id": "6d28d4a3",
   "metadata": {},
   "outputs": [],
   "source": [
    "#grouping and aggregation\n",
    "df.groupby('department_id').agg({'order_number': ['mean']})"
   ]
  },
  {
   "cell_type": "code",
   "execution_count": null,
   "id": "5b2eb0e6",
   "metadata": {},
   "outputs": [],
   "source": [
    "#aggregation\n",
    "df.groupby('department_id').agg({'order_number': ['mean', 'min', 'max']})"
   ]
  },
  {
   "cell_type": "markdown",
   "id": "1cf029bb",
   "metadata": {},
   "source": [
    "# Aggregate and transform"
   ]
  },
  {
   "cell_type": "code",
   "execution_count": null,
   "id": "3a457c2c",
   "metadata": {},
   "outputs": [],
   "source": [
    "#grouping user_id and order number and transforming into max rder column\n",
    "ords_prods_merge['max_order'] = ords_prods_merge.groupby(['user_id'])['order_number'].transform(np.max)"
   ]
  },
  {
   "cell_type": "code",
   "execution_count": null,
   "id": "0b8af7aa",
   "metadata": {},
   "outputs": [],
   "source": [
    "ords_prods_merge.head()"
   ]
  },
  {
   "cell_type": "code",
   "execution_count": null,
   "id": "5d15c048",
   "metadata": {},
   "outputs": [],
   "source": [
    "#removing display limit\n",
    "pd.options.display.max_rows = None"
   ]
  },
  {
   "cell_type": "code",
   "execution_count": null,
   "id": "be94f2c1",
   "metadata": {},
   "outputs": [],
   "source": [
    "ords_prods_merge.head(100)"
   ]
  },
  {
   "cell_type": "code",
   "execution_count": null,
   "id": "42875c79",
   "metadata": {},
   "outputs": [],
   "source": [
    "#ords_prods_merged shape\n",
    "ords_prods_merge.shape"
   ]
  },
  {
   "cell_type": "markdown",
   "id": "a0b73163",
   "metadata": {},
   "source": [
    "# Creating loyalty flag"
   ]
  },
  {
   "cell_type": "markdown",
   "id": "5f819da3",
   "metadata": {},
   "source": [
    "Question 4: creating loyalty flags"
   ]
  },
  {
   "cell_type": "code",
   "execution_count": null,
   "id": "34b5000a",
   "metadata": {},
   "outputs": [],
   "source": [
    "#creating loyalty flag based on max_orders for loyal customer\n",
    "ords_prods_merge.loc[ords_prods_merge['max_order']>40,'loyalty_flag']='Loyal Customer'"
   ]
  },
  {
   "cell_type": "code",
   "execution_count": null,
   "id": "4d2c7dfd",
   "metadata": {},
   "outputs": [],
   "source": [
    "#creating loyalty flag based on max_orders for regualr customer\n",
    "ords_prods_merge.loc[(ords_prods_merge['max_order']<=40)&(ords_prods_merge['max_order']>10),'loyalty_flag']='Regular Customer'"
   ]
  },
  {
   "cell_type": "code",
   "execution_count": null,
   "id": "4be2e6f2",
   "metadata": {},
   "outputs": [],
   "source": [
    "#creating loyalty flag based on max_orders for new customer\n",
    "ords_prods_merge.loc[ords_prods_merge['max_order']<=10,'loyalty_flag']='New Customer'"
   ]
  },
  {
   "cell_type": "code",
   "execution_count": null,
   "id": "0da36f4a",
   "metadata": {},
   "outputs": [],
   "source": [
    "#verifying counts\n",
    "ords_prods_merge['loyalty_flag'].value_counts(dropna=False)"
   ]
  },
  {
   "cell_type": "code",
   "execution_count": null,
   "id": "66f1625e",
   "metadata": {},
   "outputs": [],
   "source": [
    "ords_prods_merge.head(100)"
   ]
  },
  {
   "cell_type": "code",
   "execution_count": null,
   "id": "d20da17b",
   "metadata": {},
   "outputs": [],
   "source": [
    "#checking specific columns\n",
    "ords_prods_merge[['user_id', 'loyalty_flag', 'max_order']].head(60)"
   ]
  },
  {
   "cell_type": "markdown",
   "id": "35541358",
   "metadata": {},
   "source": [
    "Question 2: grouping by department-id and aggregating by order number, mean for the entire data set"
   ]
  },
  {
   "cell_type": "code",
   "execution_count": null,
   "id": "5bdc4f3b",
   "metadata": {},
   "outputs": [],
   "source": [
    "#aggregating by department_id for the entire file\n",
    "ords_prods_merge.groupby('department_id').agg({'order_number': ['mean']})"
   ]
  },
  {
   "cell_type": "markdown",
   "id": "b428fd93",
   "metadata": {},
   "source": [
    "Question 3: The main difference i find between the subset and entirity of data is  more departments. The subset had only 8 departments where as the data has 21 departments. also due to change. the mean also changed."
   ]
  },
  {
   "cell_type": "markdown",
   "id": "1d0f2e67",
   "metadata": {},
   "source": [
    "# Creating spend flag"
   ]
  },
  {
   "cell_type": "markdown",
   "id": "8c24a742",
   "metadata": {},
   "source": [
    "Question 5: The marketing team at Instacart wants to know whether there’s a difference between the spending habits of the three types of customers you identified. Use the loyalty flag you created and check the basic statistics of the product prices for each loyalty category (Loyal Customer, Regular Customer, and New Customer). What you’re trying to determine is whether the prices of products purchased by loyal customers differ from those purchased by regular or new customers."
   ]
  },
  {
   "cell_type": "code",
   "execution_count": null,
   "id": "06c77b14",
   "metadata": {},
   "outputs": [],
   "source": [
    "#checking spending habits group by the loyalty flag\n",
    "ords_prods_merge.groupby('loyalty_flag').agg({'prices': ['mean', 'min', 'max']})"
   ]
  },
  {
   "cell_type": "markdown",
   "id": "49aec142",
   "metadata": {},
   "source": [
    "question 6: The team now wants to target different types of spenders in their marketing campaigns. This can be achieved by looking at the prices of the items people are buying. Create a spending flag for each user based on the average price across all their orders using the following criteria:\n",
    "If the mean of the prices of products purchased by a user is lower than 10, then flag them as a “Low spender.”\n",
    "If the mean of the prices of products purchased by a user is higher than or equal to 10, then flag them as a “High spender.”"
   ]
  },
  {
   "cell_type": "code",
   "execution_count": null,
   "id": "f5c60653",
   "metadata": {},
   "outputs": [],
   "source": [
    "#grouping user_id and price and transforming into mean price column\n",
    "ords_prods_merge['averge_price'] = ords_prods_merge.groupby(['user_id'])['prices'].transform(np.mean)"
   ]
  },
  {
   "cell_type": "code",
   "execution_count": null,
   "id": "2266f329",
   "metadata": {},
   "outputs": [],
   "source": [
    "#spend flag high spender\n",
    "ords_prods_merge.loc[ords_prods_merge['averge_price']>=10,'spend_flag']='High Spender'"
   ]
  },
  {
   "cell_type": "code",
   "execution_count": null,
   "id": "6bd70f91",
   "metadata": {},
   "outputs": [],
   "source": [
    "#spend flag low spender\n",
    "ords_prods_merge.loc[ords_prods_merge['averge_price']<10,'spend_flag']='Low Spender'"
   ]
  },
  {
   "cell_type": "code",
   "execution_count": null,
   "id": "d9e67936",
   "metadata": {},
   "outputs": [],
   "source": [
    "ords_prods_merge['spend_flag'].value_counts(dropna=False)"
   ]
  },
  {
   "cell_type": "code",
   "execution_count": null,
   "id": "e708d2b3",
   "metadata": {},
   "outputs": [],
   "source": [
    "ords_prods_merge.shape"
   ]
  },
  {
   "cell_type": "code",
   "execution_count": null,
   "id": "afcc057a",
   "metadata": {},
   "outputs": [],
   "source": [
    "ords_prods_merge.head(50)"
   ]
  },
  {
   "cell_type": "markdown",
   "id": "33ff2734",
   "metadata": {},
   "source": [
    "# creatting frequency flag"
   ]
  },
  {
   "cell_type": "markdown",
   "id": "b68066b6",
   "metadata": {},
   "source": [
    "QUESTION 7 :In order to send relevant notifications to users within the app (for instance, asking users if they want to buy the same item again), the Instacart team wants you to determine frequent versus non-frequent customers. Create an order frequency flag that marks the regularity of a user’s ordering behavior according to the median in the “days_since_prior_order” column. The criteria for the flag should be as follows:\n",
    "If the median of “days_since_prior_order” is higher than 20, then the customer should be labeled a “Non-frequent customer.”\n",
    "If the median is higher than 10 and lower than or equal to 20, then the customer should be labeled a “Regular customer.”\n",
    "If the median is lower than or equal to 10, then the customer should be labeled a “Frequent customer.”"
   ]
  },
  {
   "cell_type": "code",
   "execution_count": 1,
   "id": "c674a9c5",
   "metadata": {},
   "outputs": [
    {
     "ename": "NameError",
     "evalue": "name 'ords_prods_merge' is not defined",
     "output_type": "error",
     "traceback": [
      "\u001b[0;31m---------------------------------------------------------------------------\u001b[0m",
      "\u001b[0;31mNameError\u001b[0m                                 Traceback (most recent call last)",
      "\u001b[0;32m/var/folders/2f/9v7c1_v50z5919rws2_ds4rm0000gn/T/ipykernel_30640/3884090790.py\u001b[0m in \u001b[0;36m<module>\u001b[0;34m\u001b[0m\n\u001b[1;32m      1\u001b[0m \u001b[0;31m#grouping user_id and days_since_prior_order and finding median for each customer\u001b[0m\u001b[0;34m\u001b[0m\u001b[0;34m\u001b[0m\u001b[0m\n\u001b[0;32m----> 2\u001b[0;31m \u001b[0mords_prods_merge\u001b[0m\u001b[0;34m[\u001b[0m\u001b[0;34m'order_frequency'\u001b[0m\u001b[0;34m]\u001b[0m \u001b[0;34m=\u001b[0m \u001b[0mords_prods_merge\u001b[0m\u001b[0;34m.\u001b[0m\u001b[0mgroupby\u001b[0m\u001b[0;34m(\u001b[0m\u001b[0;34m[\u001b[0m\u001b[0;34m'user_id'\u001b[0m\u001b[0;34m]\u001b[0m\u001b[0;34m)\u001b[0m\u001b[0;34m[\u001b[0m\u001b[0;34m'days_since_prior_order'\u001b[0m\u001b[0;34m]\u001b[0m\u001b[0;34m.\u001b[0m\u001b[0mtransform\u001b[0m\u001b[0;34m(\u001b[0m\u001b[0mnp\u001b[0m\u001b[0;34m.\u001b[0m\u001b[0mmedian\u001b[0m\u001b[0;34m)\u001b[0m\u001b[0;34m\u001b[0m\u001b[0;34m\u001b[0m\u001b[0m\n\u001b[0m",
      "\u001b[0;31mNameError\u001b[0m: name 'ords_prods_merge' is not defined"
     ]
    }
   ],
   "source": [
    "#grouping user_id and days_since_prior_order and finding median for each customer\n",
    "ords_prods_merge['order_frequency'] = ords_prods_merge.groupby(['user_id'])['days_since_prior_order'].transform(np.median)"
   ]
  },
  {
   "cell_type": "code",
   "execution_count": null,
   "id": "6a957450",
   "metadata": {},
   "outputs": [],
   "source": [
    "#order frequency - non frequent customer\n",
    "ords_prods_merge.loc[ords_prods_merge['order_frequency']>20,'frequency_flag']='Non-frequent customer'"
   ]
  },
  {
   "cell_type": "code",
   "execution_count": null,
   "id": "472580bc",
   "metadata": {},
   "outputs": [],
   "source": [
    "#order frequency - regular  customer\n",
    "ords_prods_merge.loc[(ords_prods_merge['order_frequency']>10) &(ords_prods_merge['order_frequency']<=20),'frequency_flag']='Regular customer'"
   ]
  },
  {
   "cell_type": "code",
   "execution_count": null,
   "id": "fbf2f785",
   "metadata": {},
   "outputs": [],
   "source": [
    "#order frequency - frequent customer\n",
    "ords_prods_merge.loc[ords_prods_merge['order_frequency']<=10,'frequency_flag']='Frequent customer'"
   ]
  },
  {
   "cell_type": "code",
   "execution_count": null,
   "id": "12d45923",
   "metadata": {},
   "outputs": [],
   "source": [
    "ords_prods_merge['frequency_flag'].value_counts(dropna=False)"
   ]
  },
  {
   "cell_type": "code",
   "execution_count": 53,
   "id": "397f88ac",
   "metadata": {},
   "outputs": [
    {
     "data": {
      "text/plain": [
       "(32404859, 20)"
      ]
     },
     "execution_count": 53,
     "metadata": {},
     "output_type": "execute_result"
    }
   ],
   "source": [
    "ords_prods_merge.shape"
   ]
  },
  {
   "cell_type": "code",
   "execution_count": null,
   "id": "7231e531",
   "metadata": {},
   "outputs": [],
   "source": [
    "ords_prods_merge.head(20)"
   ]
  },
  {
   "cell_type": "code",
   "execution_count": null,
   "id": "1be91854",
   "metadata": {},
   "outputs": [],
   "source": [
    "#exporting data into pickle file \n",
    "ords_prods_merge.to_pickle(os.path.join(pathk,'Prepared data','orders_merged_flagged.pkl'))"
   ]
  },
  {
   "cell_type": "code",
   "execution_count": null,
   "id": "aee03fa9",
   "metadata": {},
   "outputs": [],
   "source": []
  }
 ],
 "metadata": {
  "kernelspec": {
   "display_name": "Python 3 (ipykernel)",
   "language": "python",
   "name": "python3"
  },
  "language_info": {
   "codemirror_mode": {
    "name": "ipython",
    "version": 3
   },
   "file_extension": ".py",
   "mimetype": "text/x-python",
   "name": "python",
   "nbconvert_exporter": "python",
   "pygments_lexer": "ipython3",
   "version": "3.9.13"
  }
 },
 "nbformat": 4,
 "nbformat_minor": 5
}
