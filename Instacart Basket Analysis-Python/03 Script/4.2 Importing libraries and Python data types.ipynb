{
 "cells": [
  {
   "cell_type": "markdown",
   "id": "003d4050",
   "metadata": {},
   "source": [
    "# Importing libraries"
   ]
  },
  {
   "cell_type": "code",
   "execution_count": 1,
   "id": "22572129",
   "metadata": {},
   "outputs": [],
   "source": [
    "#importing libraries\n",
    "import pandas as pd\n",
    "import numpy as np\n",
    "import os"
   ]
  },
  {
   "cell_type": "markdown",
   "id": "522af347",
   "metadata": {},
   "source": [
    "# Data types"
   ]
  },
  {
   "cell_type": "code",
   "execution_count": 24,
   "id": "04e85c9b",
   "metadata": {},
   "outputs": [],
   "source": [
    "x=100\n",
    "y=50\n",
    "z=150\n",
    "w=2\n",
    "v=200"
   ]
  },
  {
   "cell_type": "code",
   "execution_count": 26,
   "id": "534b83ca",
   "metadata": {},
   "outputs": [
    {
     "name": "stdout",
     "output_type": "stream",
     "text": [
      "100\n"
     ]
    }
   ],
   "source": [
    "print(y+y)"
   ]
  },
  {
   "cell_type": "code",
   "execution_count": 28,
   "id": "06640725",
   "metadata": {},
   "outputs": [
    {
     "name": "stdout",
     "output_type": "stream",
     "text": [
      "100\n"
     ]
    }
   ],
   "source": [
    "print(y-x+z)"
   ]
  },
  {
   "cell_type": "code",
   "execution_count": 29,
   "id": "433ba784",
   "metadata": {},
   "outputs": [
    {
     "name": "stdout",
     "output_type": "stream",
     "text": [
      "100.0\n"
     ]
    }
   ],
   "source": [
    "print(v/w)"
   ]
  },
  {
   "cell_type": "code",
   "execution_count": 30,
   "id": "3b721eab",
   "metadata": {},
   "outputs": [],
   "source": [
    "f1=20.3\n",
    "f2=6.1"
   ]
  },
  {
   "cell_type": "code",
   "execution_count": 31,
   "id": "2fd5fcf0",
   "metadata": {},
   "outputs": [
    {
     "name": "stdout",
     "output_type": "stream",
     "text": [
      "3.3278688524590168\n"
     ]
    }
   ],
   "source": [
    "print(f1/f2)"
   ]
  },
  {
   "cell_type": "code",
   "execution_count": 32,
   "id": "e4587b43",
   "metadata": {},
   "outputs": [
    {
     "name": "stdout",
     "output_type": "stream",
     "text": [
      "Hello Clinton\n"
     ]
    }
   ],
   "source": [
    "print(\"H\"+\"e\"+\"l\"+\"l\"+\"o\"+\" \"+\"C\"+\"l\"+\"i\"+\"n\"+\"t\"+\"o\"+\"n\")"
   ]
  },
  {
   "cell_type": "code",
   "execution_count": 33,
   "id": "6aff42ee",
   "metadata": {},
   "outputs": [
    {
     "name": "stdout",
     "output_type": "stream",
     "text": [
      "Hello Clinton How are you?\n"
     ]
    }
   ],
   "source": [
    "print(\"Hello Clinton,\"+\" \"+\"How are you?\")"
   ]
  }
 ],
 "metadata": {
  "kernelspec": {
   "display_name": "Python 3 (ipykernel)",
   "language": "python",
   "name": "python3"
  },
  "language_info": {
   "codemirror_mode": {
    "name": "ipython",
    "version": 3
   },
   "file_extension": ".py",
   "mimetype": "text/x-python",
   "name": "python",
   "nbconvert_exporter": "python",
   "pygments_lexer": "ipython3",
   "version": "3.9.13"
  }
 },
 "nbformat": 4,
 "nbformat_minor": 5
}
